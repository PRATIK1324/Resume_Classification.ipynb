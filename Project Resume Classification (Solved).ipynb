{
 "cells": [
  {
   "cell_type": "markdown",
   "id": "f27b936c-730b-4cdf-a83d-5f16a2912bc2",
   "metadata": {},
   "source": [
    "# EDA"
   ]
  },
  {
   "cell_type": "code",
   "execution_count": 45,
   "id": "c3caa6bc-ac27-487d-8e44-3cf3c43def6a",
   "metadata": {},
   "outputs": [],
   "source": [
    "# Importing Libraries\n",
    "\n",
    "import os\n",
    "from docx import Document\n",
    "import pandas as pd\n",
    "import re\n",
    "import warnings\n",
    "warnings.filterwarnings(\"ignore\")"
   ]
  },
  {
   "cell_type": "code",
   "execution_count": 46,
   "id": "5d11dbe9-f259-493c-98df-3dc75f0aa365",
   "metadata": {},
   "outputs": [],
   "source": [
    "# Function to extract text from doc file\n",
    "\n",
    "def extract_text_from_docx(file_path):\n",
    "    try:\n",
    "        doc = Document(file_path)\n",
    "        return '\\n'.join([para.text for para in doc.paragraphs])\n",
    "    except Exception as e:\n",
    "        print(f\"Error reading {file_path}: {e}\")\n",
    "        return \"\"\n",
    "\n",
    "# Function to clean raw text (lowercasing, remove punctuation and extra spaces)\n",
    "def clean_text(text):\n",
    "    text = text.lower()\n",
    "    text = re.sub(r'\\s+', ' ', text)\n",
    "    text = re.sub(r'[^\\w\\s]', '', text)\n",
    "    return text\n",
    "\n",
    "# Path to my main resume folder\n",
    "root_folder = r\"C:\\Temp\\Resumes_Docx\"\n",
    "\n",
    "# List to store data\n",
    "resume_data = []\n",
    "\n",
    "# Loop through each subfolder  ---------------------------------------------------------------------------------------------------\n",
    "for folder in os.listdir(root_folder):\n",
    "    folder_path = os.path.join(root_folder, folder)\n",
    "    if os.path.isdir(folder_path):\n",
    "        label = folder  # Use folder name as label\n",
    "        for file in os.listdir(folder_path):\n",
    "            if file.endswith('.docx'):\n",
    "                file_path = os.path.join(folder_path, file)\n",
    "                raw_text = extract_text_from_docx(file_path)\n",
    "                resume_data.append({\n",
    "                    'filename': file,\n",
    "                    'label': label,\n",
    "                    'text': raw_text,\n",
    "                    'clean_text': clean_text(raw_text)\n",
    "                })\n"
   ]
  },
  {
   "cell_type": "code",
   "execution_count": 47,
   "id": "c2556dee-5127-4059-b77b-6127faa427a0",
   "metadata": {},
   "outputs": [
    {
     "data": {
      "text/html": [
       "<div>\n",
       "<style scoped>\n",
       "    .dataframe tbody tr th:only-of-type {\n",
       "        vertical-align: middle;\n",
       "    }\n",
       "\n",
       "    .dataframe tbody tr th {\n",
       "        vertical-align: top;\n",
       "    }\n",
       "\n",
       "    .dataframe thead th {\n",
       "        text-align: right;\n",
       "    }\n",
       "</style>\n",
       "<table border=\"1\" class=\"dataframe\">\n",
       "  <thead>\n",
       "    <tr style=\"text-align: right;\">\n",
       "      <th></th>\n",
       "      <th>filename</th>\n",
       "      <th>label</th>\n",
       "      <th>text</th>\n",
       "      <th>clean_text</th>\n",
       "    </tr>\n",
       "  </thead>\n",
       "  <tbody>\n",
       "    <tr>\n",
       "      <th>0</th>\n",
       "      <td>Peoplesoft Admin_AnubhavSingh.docx</td>\n",
       "      <td>Peoplesoft Resume</td>\n",
       "      <td>Anubhav Kumar Singh\\t\\t\\n\\n  To work in a gl...</td>\n",
       "      <td>anubhav kumar singh to work in a globally com...</td>\n",
       "    </tr>\n",
       "    <tr>\n",
       "      <th>1</th>\n",
       "      <td>Peoplesoft Admin_Murali.docx</td>\n",
       "      <td>Peoplesoft Resume</td>\n",
       "      <td>Murali\\n\\nExperience Summary \\n\\nI have 6 year...</td>\n",
       "      <td>murali experience summary i have 6 years of ex...</td>\n",
       "    </tr>\n",
       "    <tr>\n",
       "      <th>2</th>\n",
       "      <td>Peoplesoft Admin_SirazuddinMohammad.docx</td>\n",
       "      <td>Peoplesoft Resume</td>\n",
       "      <td>\\n\\n\\n\\n\\n\\n\\n\\n\\n\\n\\n\\n\\n\\nPROFILE SUMMARY\\n\\...</td>\n",
       "      <td>profile summary i have overall 68 years exper...</td>\n",
       "    </tr>\n",
       "    <tr>\n",
       "      <th>3</th>\n",
       "      <td>Peoplesoft Admin_Varkala Vikas.docx</td>\n",
       "      <td>Peoplesoft Resume</td>\n",
       "      <td>PeopleSoft Admin\\nVARKALA VIKAS\\n\\nCareer Obj...</td>\n",
       "      <td>peoplesoft admin varkala vikas career objecti...</td>\n",
       "    </tr>\n",
       "    <tr>\n",
       "      <th>4</th>\n",
       "      <td>PeopleSoft DBA_Vivekanand Sayana.docx</td>\n",
       "      <td>Peoplesoft Resume</td>\n",
       "      <td>PeopleSoft Administration\\n \\nVivekanand Sayan...</td>\n",
       "      <td>peoplesoft administration vivekanand sayana ca...</td>\n",
       "    </tr>\n",
       "  </tbody>\n",
       "</table>\n",
       "</div>"
      ],
      "text/plain": [
       "                                   filename              label  \\\n",
       "0        Peoplesoft Admin_AnubhavSingh.docx  Peoplesoft Resume   \n",
       "1              Peoplesoft Admin_Murali.docx  Peoplesoft Resume   \n",
       "2  Peoplesoft Admin_SirazuddinMohammad.docx  Peoplesoft Resume   \n",
       "3       Peoplesoft Admin_Varkala Vikas.docx  Peoplesoft Resume   \n",
       "4     PeopleSoft DBA_Vivekanand Sayana.docx  Peoplesoft Resume   \n",
       "\n",
       "                                                text  \\\n",
       "0    Anubhav Kumar Singh\\t\\t\\n\\n  To work in a gl...   \n",
       "1  Murali\\n\\nExperience Summary \\n\\nI have 6 year...   \n",
       "2  \\n\\n\\n\\n\\n\\n\\n\\n\\n\\n\\n\\n\\n\\nPROFILE SUMMARY\\n\\...   \n",
       "3   PeopleSoft Admin\\nVARKALA VIKAS\\n\\nCareer Obj...   \n",
       "4  PeopleSoft Administration\\n \\nVivekanand Sayan...   \n",
       "\n",
       "                                          clean_text  \n",
       "0   anubhav kumar singh to work in a globally com...  \n",
       "1  murali experience summary i have 6 years of ex...  \n",
       "2   profile summary i have overall 68 years exper...  \n",
       "3   peoplesoft admin varkala vikas career objecti...  \n",
       "4  peoplesoft administration vivekanand sayana ca...  "
      ]
     },
     "execution_count": 47,
     "metadata": {},
     "output_type": "execute_result"
    }
   ],
   "source": [
    "# Create DataFrame\n",
    "df = pd.DataFrame(resume_data)\n",
    "df.head() \n",
    "\n",
    "#Visual inspect to DataFrame with filename, label, text, and cleaned text.\n",
    "#Some files might be corrupted or not standard Word files. These are safely skipped in my code with exception handling"
   ]
  },
  {
   "cell_type": "code",
   "execution_count": 48,
   "id": "41d34c80-a83f-46e5-b7e1-8fd68ccf583a",
   "metadata": {},
   "outputs": [
    {
     "name": "stdout",
     "output_type": "stream",
     "text": [
      "label\n",
      "React Developer    20\n",
      "SQL Developer      11\n",
      "Workday            11\n",
      "Peoplesoft         10\n",
      "Name: count, dtype: int64\n"
     ]
    }
   ],
   "source": [
    "#This function standardizes folder-based labels into clean class names. Ensures consistency across classes before modeling or EDA.\n",
    "\n",
    "def normalize_label(label):\n",
    "    label = label.lower().strip()\n",
    "    if 'peoplesoft' in label:\n",
    "        return 'Peoplesoft'\n",
    "    elif 'react' in label:\n",
    "        return 'React Developer'\n",
    "    elif 'sql' in label:\n",
    "        return 'SQL Developer'\n",
    "    elif 'workday' in label:\n",
    "        return 'Workday'\n",
    "    else:\n",
    "        return label.title()\n",
    "\n",
    "df['label'] = df['label'].apply(normalize_label)\n",
    "print(df['label'].value_counts())"
   ]
  },
  {
   "cell_type": "code",
   "execution_count": 49,
   "id": "4c8d2842-fc4f-40b6-8bf8-66f0ae4a4436",
   "metadata": {},
   "outputs": [
    {
     "name": "stdout",
     "output_type": "stream",
     "text": [
      "<class 'pandas.core.frame.DataFrame'>\n",
      "RangeIndex: 52 entries, 0 to 51\n",
      "Data columns (total 4 columns):\n",
      " #   Column      Non-Null Count  Dtype \n",
      "---  ------      --------------  ----- \n",
      " 0   filename    52 non-null     object\n",
      " 1   label       52 non-null     object\n",
      " 2   text        52 non-null     object\n",
      " 3   clean_text  52 non-null     object\n",
      "dtypes: object(4)\n",
      "memory usage: 1.8+ KB\n",
      "None\n",
      "                                  filename            label  \\\n",
      "count                                   52               52   \n",
      "unique                                  52                4   \n",
      "top     Peoplesoft Admin_AnubhavSingh.docx  React Developer   \n",
      "freq                                     1               20   \n",
      "\n",
      "                                                     text  \\\n",
      "count                                                  52   \n",
      "unique                                                 52   \n",
      "top       Anubhav Kumar Singh\\t\\t\\n\\n  To work in a gl...   \n",
      "freq                                                    1   \n",
      "\n",
      "                                               clean_text  \n",
      "count                                                  52  \n",
      "unique                                                 50  \n",
      "top     mareedu lokesh babu professional overview arou...  \n",
      "freq                                                    2  \n",
      "filename      0.0\n",
      "label         0.0\n",
      "text          0.0\n",
      "clean_text    0.0\n",
      "dtype: float64\n"
     ]
    }
   ],
   "source": [
    "#Explores structure, missing values, and basic stats. Useful to catch nulls or anomalies in the text and clean_text fields.\n",
    "\n",
    "import pandas as pd\n",
    "import numpy as np\n",
    "import matplotlib.pyplot as plt\n",
    "import seaborn as sns\n",
    "from wordcloud import WordCloud, STOPWORDS\n",
    "\n",
    "print(df.info())          # dtypes, non‑null counts\n",
    "print(df.describe())      # numeric stats (will show word_count later)\n",
    "print(df.isna().mean())   # % of missing per column"
   ]
  },
  {
   "cell_type": "code",
   "execution_count": 50,
   "id": "3476be66-6ca7-4c53-8436-5644588d15e6",
   "metadata": {},
   "outputs": [],
   "source": [
    "#Creates additional features to understand the resume length. These can be used in plots or as features in classification.\n",
    "df['word_count'] = df['clean_text'].str.split().str.len()\n",
    "df['char_count'] = df['clean_text'].str.len()"
   ]
  },
  {
   "cell_type": "code",
   "execution_count": 51,
   "id": "18fdf9c2-86ad-44a1-bb12-8252ce42cb8a",
   "metadata": {},
   "outputs": [
    {
     "data": {
      "image/png": "[encoded data removed]",
      "text/plain": [
       "<Figure size 800x400 with 1 Axes>"
      ]
     },
     "metadata": {},
     "output_type": "display_data"
    }
   ],
   "source": [
    "plt.figure(figsize=(8,4))\n",
    "sns.histplot(df['word_count'], bins=30, kde=True)\n",
    "plt.title('Word count distribution (all resumes)')\n",
    "plt.xlabel('Words in resume')\n",
    "plt.ylabel('Frequency')\n",
    "plt.show()"
   ]
  },
  {
   "cell_type": "code",
   "execution_count": 52,
   "id": "7d9f1519-3381-46bf-b2a1-65733345d2d7",
   "metadata": {},
   "outputs": [
    {
     "data": {
      "image/png": "[encoded data removed]",
      "text/plain": [
       "<Figure size 700x400 with 1 Axes>"
      ]
     },
     "metadata": {},
     "output_type": "display_data"
    }
   ],
   "source": [
    "plt.figure(figsize=(7,4))\n",
    "sns.countplot(data=df, y='label', order=df['label'].value_counts().index)\n",
    "plt.title('Number of resumes per role')\n",
    "plt.xlabel('Count')\n",
    "plt.ylabel('Role')\n",
    "plt.show()"
   ]
  },
  {
   "cell_type": "markdown",
   "id": "503b6811-e2a0-41de-8e28-314f94efcaf2",
   "metadata": {},
   "source": [
    "# Model Building"
   ]
  },
  {
   "cell_type": "code",
   "execution_count": 53,
   "id": "52fc5053-8317-4f68-95fc-bde61a66efb0",
   "metadata": {},
   "outputs": [],
   "source": [
    "#Importing Required libraries\n",
    "\n",
    "from sklearn.feature_extraction.text import TfidfVectorizer, CountVectorizer\n",
    "from sklearn.model_selection import train_test_split\n",
    "from sklearn.naive_bayes import MultinomialNB\n",
    "from sklearn.svm import SVC\n",
    "from sklearn.tree import DecisionTreeClassifier\n",
    "from sklearn.ensemble import RandomForestClassifier\n",
    "from sklearn.metrics import accuracy_score, classification_report\n",
    "import seaborn as sns\n",
    "import matplotlib.pyplot as plt\n"
   ]
  },
  {
   "cell_type": "code",
   "execution_count": 54,
   "id": "33d5ea4c-08d1-4c0a-999b-6ac051932779",
   "metadata": {},
   "outputs": [],
   "source": [
    "X_text = df['clean_text']\n",
    "y = df['label']"
   ]
  },
  {
   "cell_type": "code",
   "execution_count": 55,
   "id": "5898442f-8566-4bee-a074-df9bbdf3942d",
   "metadata": {},
   "outputs": [],
   "source": [
    "# Used the cleaned text for vectorization\n",
    "tfidf = TfidfVectorizer(max_features=5000, stop_words='english')\n",
    "bow = CountVectorizer(max_features=5000, stop_words='english')"
   ]
  },
  {
   "cell_type": "code",
   "execution_count": 56,
   "id": "3760ceb3-0ff0-4ea6-976e-ff1a9288bc5d",
   "metadata": {},
   "outputs": [],
   "source": [
    "from sklearn.metrics import accuracy_score, classification_report, confusion_matrix\n",
    "\n",
    "def evaluate_models(X, y, vectorizer_name):\n",
    "    print(f\"\\n📌 Using {type(vectorizer_name).__name__}:\\n{'='*40}\")\n",
    "    \n",
    "    # Text to vector\n",
    "    X_vect = vectorizer_name.fit_transform(X)\n",
    "    \n",
    "    # Train-test split\n",
    "    X_train, X_test, y_train, y_test = train_test_split(X_vect, y, test_size=0.2, random_state=42)\n",
    "\n",
    "    # Define models\n",
    "    models = {\n",
    "        'Naive Bayes': MultinomialNB(),\n",
    "        'SVM (Linear)': SVC(kernel='linear'),\n",
    "        'Decision Tree': DecisionTreeClassifier(),\n",
    "        'Random Forest': RandomForestClassifier(n_estimators=100)\n",
    "    }\n",
    "\n",
    "    trained_models = {}\n",
    "\n",
    "    for name, model in models.items():\n",
    "        model.fit(X_train, y_train)\n",
    "        y_pred = model.predict(X_test)\n",
    "\n",
    "        acc = accuracy_score(y_test, y_pred)\n",
    "        print(f\"\\n🧠 {name} Results:\")\n",
    "        print(f\"Accuracy: {acc:.2f}\")\n",
    "        print(\"Classification Report:\")\n",
    "        print(classification_report(y_test, y_pred, zero_division=0))\n",
    "\n",
    "        trained_models[name] = model\n",
    "\n",
    "    return trained_models, vectorizer_name\n"
   ]
  },
  {
   "cell_type": "code",
   "execution_count": 57,
   "id": "40e4d9f9-4a91-4738-a52e-f237cdafcba0",
   "metadata": {
    "scrolled": true
   },
   "outputs": [
    {
     "name": "stdout",
     "output_type": "stream",
     "text": [
      "\n",
      "📌 Using TfidfVectorizer:\n",
      "========================================\n",
      "\n",
      "🧠 Naive Bayes Results:\n",
      "Accuracy: 0.91\n",
      "Classification Report:\n",
      "                 precision    recall  f1-score   support\n",
      "\n",
      "     Peoplesoft       1.00      1.00      1.00         2\n",
      "React Developer       0.80      1.00      0.89         4\n",
      "  SQL Developer       0.00      0.00      0.00         1\n",
      "        Workday       1.00      1.00      1.00         4\n",
      "\n",
      "       accuracy                           0.91        11\n",
      "      macro avg       0.70      0.75      0.72        11\n",
      "   weighted avg       0.84      0.91      0.87        11\n",
      "\n",
      "\n",
      "🧠 SVM (Linear) Results:\n",
      "Accuracy: 0.91\n",
      "Classification Report:\n",
      "                 precision    recall  f1-score   support\n",
      "\n",
      "     Peoplesoft       1.00      1.00      1.00         2\n",
      "React Developer       0.80      1.00      0.89         4\n",
      "  SQL Developer       0.00      0.00      0.00         1\n",
      "        Workday       1.00      1.00      1.00         4\n",
      "\n",
      "       accuracy                           0.91        11\n",
      "      macro avg       0.70      0.75      0.72        11\n",
      "   weighted avg       0.84      0.91      0.87        11\n",
      "\n",
      "\n",
      "🧠 Decision Tree Results:\n",
      "Accuracy: 0.91\n",
      "Classification Report:\n",
      "                 precision    recall  f1-score   support\n",
      "\n",
      "     Peoplesoft       1.00      1.00      1.00         2\n",
      "React Developer       0.80      1.00      0.89         4\n",
      "  SQL Developer       0.00      0.00      0.00         1\n",
      "        Workday       1.00      1.00      1.00         4\n",
      "\n",
      "       accuracy                           0.91        11\n",
      "      macro avg       0.70      0.75      0.72        11\n",
      "   weighted avg       0.84      0.91      0.87        11\n",
      "\n",
      "\n",
      "🧠 Random Forest Results:\n",
      "Accuracy: 0.91\n",
      "Classification Report:\n",
      "                 precision    recall  f1-score   support\n",
      "\n",
      "     Peoplesoft       1.00      1.00      1.00         2\n",
      "React Developer       0.80      1.00      0.89         4\n",
      "  SQL Developer       0.00      0.00      0.00         1\n",
      "        Workday       1.00      1.00      1.00         4\n",
      "\n",
      "       accuracy                           0.91        11\n",
      "      macro avg       0.70      0.75      0.72        11\n",
      "   weighted avg       0.84      0.91      0.87        11\n",
      "\n",
      "\n",
      "📌 Using CountVectorizer:\n",
      "========================================\n",
      "\n",
      "🧠 Naive Bayes Results:\n",
      "Accuracy: 1.00\n",
      "Classification Report:\n",
      "                 precision    recall  f1-score   support\n",
      "\n",
      "     Peoplesoft       1.00      1.00      1.00         2\n",
      "React Developer       1.00      1.00      1.00         4\n",
      "  SQL Developer       1.00      1.00      1.00         1\n",
      "        Workday       1.00      1.00      1.00         4\n",
      "\n",
      "       accuracy                           1.00        11\n",
      "      macro avg       1.00      1.00      1.00        11\n",
      "   weighted avg       1.00      1.00      1.00        11\n",
      "\n",
      "\n",
      "🧠 SVM (Linear) Results:\n",
      "Accuracy: 0.91\n",
      "Classification Report:\n",
      "                 precision    recall  f1-score   support\n",
      "\n",
      "     Peoplesoft       1.00      1.00      1.00         2\n",
      "React Developer       0.80      1.00      0.89         4\n",
      "  SQL Developer       0.00      0.00      0.00         1\n",
      "        Workday       1.00      1.00      1.00         4\n",
      "\n",
      "       accuracy                           0.91        11\n",
      "      macro avg       0.70      0.75      0.72        11\n",
      "   weighted avg       0.84      0.91      0.87        11\n",
      "\n",
      "\n",
      "🧠 Decision Tree Results:\n",
      "Accuracy: 0.82\n",
      "Classification Report:\n",
      "                 precision    recall  f1-score   support\n",
      "\n",
      "     Peoplesoft       0.67      1.00      0.80         2\n",
      "React Developer       0.80      1.00      0.89         4\n",
      "  SQL Developer       0.00      0.00      0.00         1\n",
      "        Workday       1.00      0.75      0.86         4\n",
      "\n",
      "       accuracy                           0.82        11\n",
      "      macro avg       0.62      0.69      0.64        11\n",
      "   weighted avg       0.78      0.82      0.78        11\n",
      "\n",
      "\n",
      "🧠 Random Forest Results:\n",
      "Accuracy: 0.91\n",
      "Classification Report:\n",
      "                 precision    recall  f1-score   support\n",
      "\n",
      "     Peoplesoft       1.00      1.00      1.00         2\n",
      "React Developer       0.80      1.00      0.89         4\n",
      "  SQL Developer       0.00      0.00      0.00         1\n",
      "        Workday       1.00      1.00      1.00         4\n",
      "\n",
      "       accuracy                           0.91        11\n",
      "      macro avg       0.70      0.75      0.72        11\n",
      "   weighted avg       0.84      0.91      0.87        11\n",
      "\n"
     ]
    },
    {
     "data": {
      "text/plain": [
       "({'Naive Bayes': MultinomialNB(),\n",
       "  'SVM (Linear)': SVC(kernel='linear'),\n",
       "  'Decision Tree': DecisionTreeClassifier(),\n",
       "  'Random Forest': RandomForestClassifier()},\n",
       " CountVectorizer(max_features=5000, stop_words='english'))"
      ]
     },
     "execution_count": 57,
     "metadata": {},
     "output_type": "execute_result"
    }
   ],
   "source": [
    "evaluate_models(X_text, y, tfidf)\n",
    "evaluate_models(X_text, y, bow)\n"
   ]
  },
  {
   "cell_type": "code",
   "execution_count": 58,
   "id": "a18ab9b1-5330-4ae4-baef-d44ce16cc271",
   "metadata": {},
   "outputs": [
    {
     "name": "stdout",
     "output_type": "stream",
     "text": [
      "\n",
      "📌 Using CountVectorizer:\n",
      "========================================\n",
      "\n",
      "🧠 Naive Bayes Results:\n",
      "Accuracy: 1.00\n",
      "Classification Report:\n",
      "                 precision    recall  f1-score   support\n",
      "\n",
      "     Peoplesoft       1.00      1.00      1.00         2\n",
      "React Developer       1.00      1.00      1.00         4\n",
      "  SQL Developer       1.00      1.00      1.00         1\n",
      "        Workday       1.00      1.00      1.00         4\n",
      "\n",
      "       accuracy                           1.00        11\n",
      "      macro avg       1.00      1.00      1.00        11\n",
      "   weighted avg       1.00      1.00      1.00        11\n",
      "\n",
      "\n",
      "🧠 SVM (Linear) Results:\n",
      "Accuracy: 0.91\n",
      "Classification Report:\n",
      "                 precision    recall  f1-score   support\n",
      "\n",
      "     Peoplesoft       1.00      1.00      1.00         2\n",
      "React Developer       0.80      1.00      0.89         4\n",
      "  SQL Developer       0.00      0.00      0.00         1\n",
      "        Workday       1.00      1.00      1.00         4\n",
      "\n",
      "       accuracy                           0.91        11\n",
      "      macro avg       0.70      0.75      0.72        11\n",
      "   weighted avg       0.84      0.91      0.87        11\n",
      "\n",
      "\n",
      "🧠 Decision Tree Results:\n",
      "Accuracy: 0.91\n",
      "Classification Report:\n",
      "                 precision    recall  f1-score   support\n",
      "\n",
      "     Peoplesoft       1.00      1.00      1.00         2\n",
      "React Developer       0.80      1.00      0.89         4\n",
      "  SQL Developer       0.00      0.00      0.00         1\n",
      "        Workday       1.00      1.00      1.00         4\n",
      "\n",
      "       accuracy                           0.91        11\n",
      "      macro avg       0.70      0.75      0.72        11\n",
      "   weighted avg       0.84      0.91      0.87        11\n",
      "\n",
      "\n",
      "🧠 Random Forest Results:\n",
      "Accuracy: 0.91\n",
      "Classification Report:\n",
      "                 precision    recall  f1-score   support\n",
      "\n",
      "     Peoplesoft       1.00      1.00      1.00         2\n",
      "React Developer       0.80      1.00      0.89         4\n",
      "  SQL Developer       0.00      0.00      0.00         1\n",
      "        Workday       1.00      1.00      1.00         4\n",
      "\n",
      "       accuracy                           0.91        11\n",
      "      macro avg       0.70      0.75      0.72        11\n",
      "   weighted avg       0.84      0.91      0.87        11\n",
      "\n"
     ]
    }
   ],
   "source": [
    "trained_models_bow, bow_vectorizer = evaluate_models(X_text, y, bow)\n",
    "nb_model_bow = trained_models_bow['Naive Bayes']\n"
   ]
  },
  {
   "cell_type": "code",
   "execution_count": 59,
   "id": "6111c864-6d54-4ec7-a9db-a5c661b4792a",
   "metadata": {},
   "outputs": [],
   "source": [
    "def predict_resume(file_path):\n",
    "    raw_text = extract_text_from_docx(file_path)\n",
    "    cleaned = clean_text(raw_text)\n",
    "    vec = bow_vectorizer.transform([cleaned])  #  Use BoW vectorizer\n",
    "    return nb_model_bow.predict(vec)[0]        #  Use BoW-trained model\n"
   ]
  },
  {
   "cell_type": "code",
   "execution_count": 60,
   "id": "34eec3d8-ff0a-4d81-936d-40e740bd5a2c",
   "metadata": {},
   "outputs": [
    {
     "name": "stdout",
     "output_type": "stream",
     "text": [
      "Predicted Role: React Developer\n"
     ]
    }
   ],
   "source": [
    "result = predict_resume(r\"C:\\Temp\\Resumes_Docx\\React Developer\\React Developer_Haripriya.docx\")\n",
    "print(\"Predicted Role:\", result)\n"
   ]
  },
  {
   "cell_type": "code",
   "execution_count": 61,
   "id": "ef537dab-1b88-48b1-88d2-431b516c594f",
   "metadata": {},
   "outputs": [
    {
     "data": {
      "text/plain": [
       "['bow_vectorizer.pkl']"
      ]
     },
     "execution_count": 61,
     "metadata": {},
     "output_type": "execute_result"
    }
   ],
   "source": [
    "import joblib\n",
    "\n",
    "# Save the Naive Bayes model trained with BoW\n",
    "joblib.dump(nb_model_bow, 'nb_model_bow.pkl')\n",
    "\n",
    "# Save the fitted BoW vectorizer\n",
    "joblib.dump(bow_vectorizer, 'bow_vectorizer.pkl')\n"
   ]
  },
  {
   "cell_type": "code",
   "execution_count": 63,
   "id": "826c0e6b-cc45-4d55-8e0a-56f1237e3bc9",
   "metadata": {},
   "outputs": [],
   "source": [
    "# Run in cmd prompt\n",
    "\n",
    "# cd C:\\Temp\\Deploy\n",
    "# streamlit run app.py\n"
   ]
  }
 ],
 "metadata": {
  "kernelspec": {
   "display_name": "Python 3 (ipykernel)",
   "language": "python",
   "name": "python3"
  },
  "language_info": {
   "codemirror_mode": {
    "name": "ipython",
    "version": 3
   },
   "file_extension": ".py",
   "mimetype": "text/x-python",
   "name": "python",
   "nbconvert_exporter": "python",
   "pygments_lexer": "ipython3",
   "version": "3.12.7"
  }
 },
 "nbformat": 4,
 "nbformat_minor": 5
}
